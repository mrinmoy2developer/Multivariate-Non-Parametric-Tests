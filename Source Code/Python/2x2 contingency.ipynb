{
 "cells": [
  {
   "attachments": {},
   "cell_type": "markdown",
   "metadata": {},
   "source": [
    "# All necessary modules and sub modules:-"
   ]
  },
  {
   "cell_type": "code",
   "execution_count": 4,
   "metadata": {},
   "outputs": [],
   "source": [
    "from sklearn.metrics import pairwise_distances as outer\n",
    "from scipy.spatial.distance import cdist\n",
    "import numpy as np\n",
    "import pandas as pd\n",
    "import matplotlib.pyplot as plt\n",
    "import networkx as nx\n",
    "from scipy.stats import hypergeom as hg\n",
    "from typing import Literal\n",
    "from multiprocessing import Queue,Process,Value,Array\n",
    "import ctypes\n",
    "from time import sleep"
   ]
  },
  {
   "cell_type": "code",
   "execution_count": 1,
   "metadata": {},
   "outputs": [],
   "source": [
    "import sys\n",
    "def Bar(it, prefix=\"\", size=60, out=sys.stdout):\n",
    "    count = len(it)\n",
    "    def show(j):\n",
    "        x = int(size*j/count)\n",
    "        print(f\"{prefix}[{'#'*x}{'.'*(size-x)}] {j}/{count}\",end='\\r', file=out, flush=True)\n",
    "    show(0)\n",
    "    for i, item in enumerate(it):\n",
    "        yield item\n",
    "        show(i+1)\n",
    "    print(\"\\n\", flush=True, file=out)"
   ]
  },
  {
   "attachments": {},
   "cell_type": "markdown",
   "metadata": {},
   "source": [
    "# 2 sample 2x2 contingency method implementation:-"
   ]
  },
  {
   "cell_type": "code",
   "execution_count": 5,
   "metadata": {},
   "outputs": [],
   "source": [
    "def X_deg_1(X,Y,alpha=0.05,alternative:Literal['x!=y','x<y','x>y']='x!=y'):\n",
    "    n1,p=X.shape\n",
    "    n2,_=Y.shape\n",
    "    N=n1+n2\n",
    "    assert p==_,\"dimensions of x and y should be equal\"\n",
    "    adj=outer(np.vstack((X,Y)))\n",
    "    g=nx.from_numpy_array(adj)\n",
    "    mst=nx.minimum_spanning_tree(g)\n",
    "    deg=[int(mst.degree[i]==1) for i in range(N)]\n",
    "    dx1,dy1=map(sum,[deg[:n1],deg[n1:]])\n",
    "    dx2,dy2=n1-dx1,n2-dy1\n",
    "    d1,d2=dx1+dy1,dx2+dy2\n",
    "    p_value=-1\n",
    "    if alternative=='x!=y':p_value=2*hg.cdf(dx1,N,d1,n1)\n",
    "    elif alternative=='x>y':p_value=hg.sf(dx1,N,d1,n1)\n",
    "    else:p_value=1-hg.sf(dx1,N,d1,n1)\n",
    "    return p_value,('accept H0' if p_value>alpha else 'reject H0')"
   ]
  },
  {
   "cell_type": "code",
   "execution_count": 7,
   "metadata": {},
   "outputs": [],
   "source": [
    "def exp(p,n,m,delta,sigma,cdf=np.random.normal,trials=100):\n",
    "    col=len(p)\n",
    "    r=[0]*col\n",
    "    for i in range(col):\n",
    "        for _ in Bar(range(trials),f\"Status[{i+1}/{col}]:\"):\n",
    "            x=cdf(0,1,(n[i],p[i]))\n",
    "            y=cdf(delta[i],sigma[i],(m[i],p[i]))\n",
    "            p_val,ver=X_deg_1(x,y,alternative='x!=y')\n",
    "            if ver=='reject H0':r[i]+=1\n",
    "    df=pd.DataFrame([r],columns=[f'p={p[i]},d={delta[i]},s={sigma[i]}'for i in range(5)],index=['X(deg 1)'])\n",
    "    return r,df"
   ]
  },
  {
   "attachments": {},
   "cell_type": "markdown",
   "metadata": {},
   "source": [
    "# Fruitless effort towards parallelization throuth multi-threading:-"
   ]
  },
  {
   "cell_type": "code",
   "execution_count": 3,
   "metadata": {},
   "outputs": [],
   "source": [
    "def process(p,n,m,delta,sigma,rep,r):\n",
    "    print(\"here!\")\n",
    "    for i in range(len(p)):\n",
    "        for _ in range(rep): \n",
    "            # next(it)\n",
    "            x=np.random.normal(0,1,(n[i],p[i]))\n",
    "            y=np.random.normal(delta[i],sigma[i],(m[i],p[i]))\n",
    "            p_val,ver=X_deg_1(x,y,alternative='x!=y')\n",
    "            if ver=='reject H0':r[i]+=1\n",
    "    # return r\n",
    "def simul(p,n,m,delta,sigma,trials,k=20):\n",
    "    out=Queue()\n",
    "    r=Array(ctypes.c_int,len(p))\n",
    "    t=[Process(target=process,args=(p,n,m,delta,sigma,trials//k,r)) for i in range(k)]\n",
    "    for i in t:i.start()\n",
    "    for i in t:i.join()\n",
    "    df=pd.DataFrame([list(r)],columns=[f'p={p[i]},d={delta[i]},s={sigma[i]}'for i in range(len(p))],index=['X(deg 1)'])\n",
    "    return r,df"
   ]
  },
  {
   "cell_type": "code",
   "execution_count": 6,
   "metadata": {},
   "outputs": [
    {
     "name": "stdout",
     "output_type": "stream",
     "text": [
      "<Process name='Process-1' pid=27348 parent=24384 stopped exitcode=1>\n"
     ]
    }
   ],
   "source": [
    "p=[1,2,5,10,20]\n",
    "n=[100]*5\n",
    "m=[100]*5\n",
    "delta=[0]*5\n",
    "sigma=[1.3,1.2,1.2,1.1,1.075]\n",
    "trials=100\n",
    "# r=Array(ctypes.c_int,5)\n",
    "# t=[Process(target=process,args=(p,n,m,delta,sigma,trials//k,r)) for i in range(k)]\n",
    "k=10\n",
    "\n",
    "def dummy():\n",
    "    print(\"hi!\",flush=True)\n",
    "    sys.stdout.flush()\n",
    "    sleep(1)\n",
    "t=[Process(target=dummy) for i in range(k)]\n",
    "for i in t:i.start()\n",
    "for i in t:i.join()\n",
    "print(t[0])"
   ]
  },
  {
   "attachments": {},
   "cell_type": "markdown",
   "metadata": {},
   "source": [
    "# Normal Distribution(Scale Shift):-"
   ]
  },
  {
   "cell_type": "code",
   "execution_count": 8,
   "metadata": {},
   "outputs": [
    {
     "name": "stdout",
     "output_type": "stream",
     "text": [
      "Status[1/1]:[............................................................] 13512/2600000\r"
     ]
    },
    {
     "ename": "KeyboardInterrupt",
     "evalue": "",
     "output_type": "error",
     "traceback": [
      "\u001b[1;31m---------------------------------------------------------------------------\u001b[0m",
      "\u001b[1;31mKeyboardInterrupt\u001b[0m                         Traceback (most recent call last)",
      "\u001b[1;32md:\\My Data\\M.Stat\\Projects\\Multivariate Nonpara Tests\\Mrinmoy\\2x2 contingency.ipynb Cell 11\u001b[0m in \u001b[0;36m1\n\u001b[1;32m----> <a href='vscode-notebook-cell:/d%3A/My%20Data/M.Stat/Projects/Multivariate%20Nonpara%20Tests/Mrinmoy/2x2%20contingency.ipynb#X13sZmlsZQ%3D%3D?line=0'>1</a>\u001b[0m r,scale\u001b[39m=\u001b[39mexp(p\u001b[39m=\u001b[39;49m[\u001b[39m10\u001b[39;49m],n\u001b[39m=\u001b[39;49m[\u001b[39m100\u001b[39;49m],m\u001b[39m=\u001b[39;49m[\u001b[39m100\u001b[39;49m],delta\u001b[39m=\u001b[39;49m[\u001b[39m0\u001b[39;49m],sigma\u001b[39m=\u001b[39;49m[\u001b[39m1.3\u001b[39;49m],trials\u001b[39m=\u001b[39;49m\u001b[39m2600000\u001b[39;49m)\n\u001b[0;32m      <a href='vscode-notebook-cell:/d%3A/My%20Data/M.Stat/Projects/Multivariate%20Nonpara%20Tests/Mrinmoy/2x2%20contingency.ipynb#X13sZmlsZQ%3D%3D?line=1'>2</a>\u001b[0m \u001b[39m# r,scale=simul(p=[1,2,5,10,20],n=[1000]*5,m=[1000]*5,delta=[0]*5,sigma=[1.3,1.2,1.2,1.1,1.075],trials=1000)\u001b[39;00m\n\u001b[0;32m      <a href='vscode-notebook-cell:/d%3A/My%20Data/M.Stat/Projects/Multivariate%20Nonpara%20Tests/Mrinmoy/2x2%20contingency.ipynb#X13sZmlsZQ%3D%3D?line=2'>3</a>\u001b[0m scale\n",
      "\u001b[1;32md:\\My Data\\M.Stat\\Projects\\Multivariate Nonpara Tests\\Mrinmoy\\2x2 contingency.ipynb Cell 11\u001b[0m in \u001b[0;36m8\n\u001b[0;32m      <a href='vscode-notebook-cell:/d%3A/My%20Data/M.Stat/Projects/Multivariate%20Nonpara%20Tests/Mrinmoy/2x2%20contingency.ipynb#X13sZmlsZQ%3D%3D?line=5'>6</a>\u001b[0m         x\u001b[39m=\u001b[39mcdf(\u001b[39m0\u001b[39m,\u001b[39m1\u001b[39m,(n[i],p[i]))\n\u001b[0;32m      <a href='vscode-notebook-cell:/d%3A/My%20Data/M.Stat/Projects/Multivariate%20Nonpara%20Tests/Mrinmoy/2x2%20contingency.ipynb#X13sZmlsZQ%3D%3D?line=6'>7</a>\u001b[0m         y\u001b[39m=\u001b[39mcdf(delta[i],sigma[i],(m[i],p[i]))\n\u001b[1;32m----> <a href='vscode-notebook-cell:/d%3A/My%20Data/M.Stat/Projects/Multivariate%20Nonpara%20Tests/Mrinmoy/2x2%20contingency.ipynb#X13sZmlsZQ%3D%3D?line=7'>8</a>\u001b[0m         p_val,ver\u001b[39m=\u001b[39mX_deg_1(x,y,alternative\u001b[39m=\u001b[39;49m\u001b[39m'\u001b[39;49m\u001b[39mx!=y\u001b[39;49m\u001b[39m'\u001b[39;49m)\n\u001b[0;32m      <a href='vscode-notebook-cell:/d%3A/My%20Data/M.Stat/Projects/Multivariate%20Nonpara%20Tests/Mrinmoy/2x2%20contingency.ipynb#X13sZmlsZQ%3D%3D?line=8'>9</a>\u001b[0m         \u001b[39mif\u001b[39;00m ver\u001b[39m==\u001b[39m\u001b[39m'\u001b[39m\u001b[39mreject H0\u001b[39m\u001b[39m'\u001b[39m:r[i]\u001b[39m+\u001b[39m\u001b[39m=\u001b[39m\u001b[39m1\u001b[39m\n\u001b[0;32m     <a href='vscode-notebook-cell:/d%3A/My%20Data/M.Stat/Projects/Multivariate%20Nonpara%20Tests/Mrinmoy/2x2%20contingency.ipynb#X13sZmlsZQ%3D%3D?line=9'>10</a>\u001b[0m df\u001b[39m=\u001b[39mpd\u001b[39m.\u001b[39mDataFrame([r],columns\u001b[39m=\u001b[39m[\u001b[39mf\u001b[39m\u001b[39m'\u001b[39m\u001b[39mp=\u001b[39m\u001b[39m{\u001b[39;00mp[i]\u001b[39m}\u001b[39;00m\u001b[39m,d=\u001b[39m\u001b[39m{\u001b[39;00mdelta[i]\u001b[39m}\u001b[39;00m\u001b[39m,s=\u001b[39m\u001b[39m{\u001b[39;00msigma[i]\u001b[39m}\u001b[39;00m\u001b[39m'\u001b[39m\u001b[39mfor\u001b[39;00m i \u001b[39min\u001b[39;00m \u001b[39mrange\u001b[39m(\u001b[39m5\u001b[39m)],index\u001b[39m=\u001b[39m[\u001b[39m'\u001b[39m\u001b[39mX(deg 1)\u001b[39m\u001b[39m'\u001b[39m])\n",
      "\u001b[1;32md:\\My Data\\M.Stat\\Projects\\Multivariate Nonpara Tests\\Mrinmoy\\2x2 contingency.ipynb Cell 11\u001b[0m in \u001b[0;36m8\n\u001b[0;32m      <a href='vscode-notebook-cell:/d%3A/My%20Data/M.Stat/Projects/Multivariate%20Nonpara%20Tests/Mrinmoy/2x2%20contingency.ipynb#X13sZmlsZQ%3D%3D?line=5'>6</a>\u001b[0m adj\u001b[39m=\u001b[39mouter(np\u001b[39m.\u001b[39mvstack((X,Y)))\n\u001b[0;32m      <a href='vscode-notebook-cell:/d%3A/My%20Data/M.Stat/Projects/Multivariate%20Nonpara%20Tests/Mrinmoy/2x2%20contingency.ipynb#X13sZmlsZQ%3D%3D?line=6'>7</a>\u001b[0m g\u001b[39m=\u001b[39mnx\u001b[39m.\u001b[39mfrom_numpy_array(adj)\n\u001b[1;32m----> <a href='vscode-notebook-cell:/d%3A/My%20Data/M.Stat/Projects/Multivariate%20Nonpara%20Tests/Mrinmoy/2x2%20contingency.ipynb#X13sZmlsZQ%3D%3D?line=7'>8</a>\u001b[0m mst\u001b[39m=\u001b[39mnx\u001b[39m.\u001b[39;49mminimum_spanning_tree(g)\n\u001b[0;32m      <a href='vscode-notebook-cell:/d%3A/My%20Data/M.Stat/Projects/Multivariate%20Nonpara%20Tests/Mrinmoy/2x2%20contingency.ipynb#X13sZmlsZQ%3D%3D?line=8'>9</a>\u001b[0m deg\u001b[39m=\u001b[39m[\u001b[39mint\u001b[39m(mst\u001b[39m.\u001b[39mdegree[i]\u001b[39m==\u001b[39m\u001b[39m1\u001b[39m) \u001b[39mfor\u001b[39;00m i \u001b[39min\u001b[39;00m \u001b[39mrange\u001b[39m(N)]\n\u001b[0;32m     <a href='vscode-notebook-cell:/d%3A/My%20Data/M.Stat/Projects/Multivariate%20Nonpara%20Tests/Mrinmoy/2x2%20contingency.ipynb#X13sZmlsZQ%3D%3D?line=9'>10</a>\u001b[0m dx1,dy1\u001b[39m=\u001b[39m\u001b[39mmap\u001b[39m(\u001b[39msum\u001b[39m,[deg[:n1],deg[n1:]])\n",
      "File \u001b[1;32m~\\AppData\\Roaming\\Python\\Python310\\site-packages\\networkx\\algorithms\\tree\\mst.py:596\u001b[0m, in \u001b[0;36mminimum_spanning_tree\u001b[1;34m(G, weight, algorithm, ignore_nan)\u001b[0m\n\u001b[0;32m    594\u001b[0m T\u001b[39m.\u001b[39mgraph\u001b[39m.\u001b[39mupdate(G\u001b[39m.\u001b[39mgraph)\n\u001b[0;32m    595\u001b[0m T\u001b[39m.\u001b[39madd_nodes_from(G\u001b[39m.\u001b[39mnodes\u001b[39m.\u001b[39mitems())\n\u001b[1;32m--> 596\u001b[0m T\u001b[39m.\u001b[39;49madd_edges_from(edges)\n\u001b[0;32m    597\u001b[0m \u001b[39mreturn\u001b[39;00m T\n",
      "File \u001b[1;32m~\\AppData\\Roaming\\Python\\Python310\\site-packages\\networkx\\classes\\graph.py:1016\u001b[0m, in \u001b[0;36mGraph.add_edges_from\u001b[1;34m(self, ebunch_to_add, **attr)\u001b[0m\n\u001b[0;32m    961\u001b[0m \u001b[39mdef\u001b[39;00m \u001b[39madd_edges_from\u001b[39m(\u001b[39mself\u001b[39m, ebunch_to_add, \u001b[39m*\u001b[39m\u001b[39m*\u001b[39mattr):\n\u001b[0;32m    962\u001b[0m     \u001b[39m\"\"\"Add all the edges in ebunch_to_add.\u001b[39;00m\n\u001b[0;32m    963\u001b[0m \n\u001b[0;32m    964\u001b[0m \u001b[39m    Parameters\u001b[39;00m\n\u001b[1;32m   (...)\u001b[0m\n\u001b[0;32m   1014\u001b[0m \u001b[39m    >>> G.add_edges_from(list((5, n) for n in G.nodes))\u001b[39;00m\n\u001b[0;32m   1015\u001b[0m \u001b[39m    \"\"\"\u001b[39;00m\n\u001b[1;32m-> 1016\u001b[0m     \u001b[39mfor\u001b[39;00m e \u001b[39min\u001b[39;00m ebunch_to_add:\n\u001b[0;32m   1017\u001b[0m         ne \u001b[39m=\u001b[39m \u001b[39mlen\u001b[39m(e)\n\u001b[0;32m   1018\u001b[0m         \u001b[39mif\u001b[39;00m ne \u001b[39m==\u001b[39m \u001b[39m3\u001b[39m:\n",
      "File \u001b[1;32m~\\AppData\\Roaming\\Python\\Python310\\site-packages\\networkx\\algorithms\\tree\\mst.py:208\u001b[0m, in \u001b[0;36mkruskal_mst_edges\u001b[1;34m(G, minimum, weight, keys, data, ignore_nan, partition)\u001b[0m\n\u001b[0;32m    205\u001b[0m     \u001b[39mraise\u001b[39;00m \u001b[39mValueError\u001b[39;00m(\u001b[39mf\u001b[39m\u001b[39m\"\u001b[39m\u001b[39mNaN found as an edge weight. Edge \u001b[39m\u001b[39m{\u001b[39;00me\u001b[39m}\u001b[39;00m\u001b[39m\"\u001b[39m)\n\u001b[0;32m    207\u001b[0m edge \u001b[39m=\u001b[39m (wt,) \u001b[39m+\u001b[39m e\n\u001b[1;32m--> 208\u001b[0m \u001b[39mif\u001b[39;00m d\u001b[39m.\u001b[39;49mget(partition) \u001b[39m==\u001b[39;49m EdgePartition\u001b[39m.\u001b[39;49mINCLUDED:\n\u001b[0;32m    209\u001b[0m     included_edges\u001b[39m.\u001b[39mappend(edge)\n\u001b[0;32m    210\u001b[0m \u001b[39melif\u001b[39;00m d\u001b[39m.\u001b[39mget(partition) \u001b[39m==\u001b[39m EdgePartition\u001b[39m.\u001b[39mEXCLUDED:\n",
      "\u001b[1;31mKeyboardInterrupt\u001b[0m: "
     ]
    }
   ],
   "source": [
    "r,scale=exp(p=[10],n=[100],m=[100],delta=[0],sigma=[1.3],trials=2600000)\n",
    "# r,scale=simul(p=[1,2,5,10,20],n=[1000]*5,m=[1000]*5,delta=[0]*5,sigma=[1.3,1.2,1.2,1.1,1.075],trials=1000)\n",
    "scale"
   ]
  },
  {
   "attachments": {},
   "cell_type": "markdown",
   "metadata": {},
   "source": [
    "# Normal Distribution(Location Shift):-"
   ]
  },
  {
   "cell_type": "code",
   "execution_count": 8,
   "metadata": {},
   "outputs": [
    {
     "name": "stdout",
     "output_type": "stream",
     "text": [
      "Status[1/5]:[############################################################] 1000/1000\n",
      "\n",
      "Status[2/5]:[############################################################] 1000/1000\n",
      "\n",
      "Status[3/5]:[############################################################] 1000/1000\n",
      "\n",
      "Status[4/5]:[############################################################] 1000/1000\n",
      "\n",
      "Status[5/5]:[############################################################] 1000/1000\n",
      "\n"
     ]
    },
    {
     "data": {
      "text/html": [
       "<div>\n",
       "<style scoped>\n",
       "    .dataframe tbody tr th:only-of-type {\n",
       "        vertical-align: middle;\n",
       "    }\n",
       "\n",
       "    .dataframe tbody tr th {\n",
       "        vertical-align: top;\n",
       "    }\n",
       "\n",
       "    .dataframe thead th {\n",
       "        text-align: right;\n",
       "    }\n",
       "</style>\n",
       "<table border=\"1\" class=\"dataframe\">\n",
       "  <thead>\n",
       "    <tr style=\"text-align: right;\">\n",
       "      <th></th>\n",
       "      <th>p=1,d=0.3,s=1</th>\n",
       "      <th>p=2,d=0.5,s=1</th>\n",
       "      <th>p=5,d=0.75,s=1</th>\n",
       "      <th>p=10,d=1,s=1</th>\n",
       "      <th>p=20,d=1.2,s=1</th>\n",
       "    </tr>\n",
       "  </thead>\n",
       "  <tbody>\n",
       "    <tr>\n",
       "      <th>X(deg 1)</th>\n",
       "      <td>0</td>\n",
       "      <td>12</td>\n",
       "      <td>4</td>\n",
       "      <td>2</td>\n",
       "      <td>1</td>\n",
       "    </tr>\n",
       "  </tbody>\n",
       "</table>\n",
       "</div>"
      ],
      "text/plain": [
       "          p=1,d=0.3,s=1  p=2,d=0.5,s=1  p=5,d=0.75,s=1  p=10,d=1,s=1  \\\n",
       "X(deg 1)              0             12               4             2   \n",
       "\n",
       "          p=20,d=1.2,s=1  \n",
       "X(deg 1)               1  "
      ]
     },
     "execution_count": 8,
     "metadata": {},
     "output_type": "execute_result"
    }
   ],
   "source": [
    "r,loc=exp(p=[1,2,5,10,20],n=[100]*5,m=[100]*5,delta=[0.3,0.5,0.75,1,1.2],sigma=[1]*5,trials=1000)\n",
    "loc"
   ]
  },
  {
   "attachments": {},
   "cell_type": "markdown",
   "metadata": {},
   "source": [
    "# Log Normal Distribution(Location Shift):-"
   ]
  },
  {
   "cell_type": "code",
   "execution_count": 5,
   "metadata": {},
   "outputs": [
    {
     "name": "stdout",
     "output_type": "stream",
     "text": [
      "Status[1/5]:[############################################################] 100/100\n",
      "\n",
      "Status[2/5]:[############################################################] 100/100\n",
      "\n",
      "Status[3/5]:[############################################################] 100/100\n",
      "\n",
      "Status[4/5]:[############################################################] 100/100\n",
      "\n",
      "Status[5/5]:[############################################################] 100/100\n",
      "\n"
     ]
    },
    {
     "data": {
      "text/html": [
       "<div>\n",
       "<style scoped>\n",
       "    .dataframe tbody tr th:only-of-type {\n",
       "        vertical-align: middle;\n",
       "    }\n",
       "\n",
       "    .dataframe tbody tr th {\n",
       "        vertical-align: top;\n",
       "    }\n",
       "\n",
       "    .dataframe thead th {\n",
       "        text-align: right;\n",
       "    }\n",
       "</style>\n",
       "<table border=\"1\" class=\"dataframe\">\n",
       "  <thead>\n",
       "    <tr style=\"text-align: right;\">\n",
       "      <th></th>\n",
       "      <th>p=1,d=0.4,s=1</th>\n",
       "      <th>p=2,d=0.4,s=1</th>\n",
       "      <th>p=5,d=0.3,s=1</th>\n",
       "      <th>p=10,d=0.3,s=1</th>\n",
       "      <th>p=20,d=0.3,s=1</th>\n",
       "    </tr>\n",
       "  </thead>\n",
       "  <tbody>\n",
       "    <tr>\n",
       "      <th>X(deg 1)</th>\n",
       "      <td>0</td>\n",
       "      <td>1</td>\n",
       "      <td>2</td>\n",
       "      <td>14</td>\n",
       "      <td>61</td>\n",
       "    </tr>\n",
       "  </tbody>\n",
       "</table>\n",
       "</div>"
      ],
      "text/plain": [
       "          p=1,d=0.4,s=1  p=2,d=0.4,s=1  p=5,d=0.3,s=1  p=10,d=0.3,s=1  \\\n",
       "X(deg 1)              0              1              2              14   \n",
       "\n",
       "          p=20,d=0.3,s=1  \n",
       "X(deg 1)              61  "
      ]
     },
     "execution_count": 5,
     "metadata": {},
     "output_type": "execute_result"
    }
   ],
   "source": [
    "r,log_norm=exp(p=[1,2,5,10,20],n=[100]*5,m=[100]*5,delta=[0.4,0.4,0.3,0.3,0.3],sigma=[1]*5,cdf=np.random.lognormal,trials=1000)\n",
    "log_norm"
   ]
  },
  {
   "cell_type": "code",
   "execution_count": null,
   "metadata": {},
   "outputs": [],
   "source": []
  }
 ],
 "metadata": {
  "kernelspec": {
   "display_name": "JE",
   "language": "python",
   "name": "python3"
  },
  "language_info": {
   "codemirror_mode": {
    "name": "ipython",
    "version": 3
   },
   "file_extension": ".py",
   "mimetype": "text/x-python",
   "name": "python",
   "nbconvert_exporter": "python",
   "pygments_lexer": "ipython3",
   "version": "3.10.0"
  },
  "orig_nbformat": 4
 },
 "nbformat": 4,
 "nbformat_minor": 2
}
