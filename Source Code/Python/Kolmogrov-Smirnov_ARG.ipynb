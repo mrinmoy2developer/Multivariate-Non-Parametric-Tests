{
 "cells": [
  {
   "cell_type": "code",
   "execution_count": 2,
   "metadata": {},
   "outputs": [],
   "source": [
    "from sklearn.metrics import pairwise_distances\n",
    "import numpy as np\n",
    "import matplotlib.pyplot as plt\n",
    "import networkx as nx"
   ]
  },
  {
   "cell_type": "code",
   "execution_count": 3,
   "metadata": {},
   "outputs": [],
   "source": [
    "# A Python3 program for\n",
    "# Prim's Minimum Spanning Tree (MST) algorithm.\n",
    "# The program is for adjacency matrix\n",
    "# representation of the graph\n",
    "\n",
    "# Library for INT_MAX\n",
    "import sys\n",
    "\n",
    "class Graph():\n",
    "\tdef __init__(self, vertices):\n",
    "\t\tself.V = vertices\n",
    "\t\tself.graph = [[0 for column in range(vertices)]\n",
    "\t\t\t\t\tfor row in range(vertices)]\n",
    "\t# A utility function to print\n",
    "\t# the constructed MST stored in parent[]\n",
    "\tdef printMST(self, parent):\n",
    "\t\t# print(\"Edge \\tWeight\")\n",
    "\t\tmst=np.zeros((self.V,self.V))\n",
    "\t\tfor i in range(1, self.V):\n",
    "\t\t\tmst[int(parent[i]), i]= self.graph[i][parent[i]]\n",
    "\t\treturn mst\n",
    "\n",
    "\tdef printMST2(self, parent):\n",
    "\t\tadj_list = {}\n",
    "\t\tfor i in range(1, self.V):\n",
    "\t\t\tw=self.graph[i][parent[i]]\n",
    "\t\t\tif(i not in adj_list.keys()):\n",
    "\t\t\t\tadj_list[i]=[]\n",
    "\t\t\tif(int(parent[i]) not in adj_list.keys()):\n",
    "\t\t\t\tadj_list[int(parent[i])]=[]\n",
    "\t\t\tadj_list[i].append((int(parent[i]),w))\n",
    "\t\t\tadj_list[int(parent[i])].append((i,w))\n",
    "\t\treturn adj_list\n",
    "\t\t\n",
    "\n",
    "\tdef nxmst(self, parent):\n",
    "\t\tG=nx.Graph()\n",
    "\t\tfor i in range(self.V):\n",
    "\t\t\tG.add_node(i)\n",
    "\t\tfor i in range(1, self.V):\n",
    "\t\t\tG.add_edge(int(parent[i]), i,weight=self.graph[i][parent[i]])\n",
    "\t\t\t# mst[int(parent[i]), i]= self.graph[i][parent[i]]\n",
    "\n",
    "\t\treturn(G)\n",
    "\t\t\n",
    "\n",
    "\t# A utility function to find the vertex with\n",
    "\t# minimum distance value, from the set of vertices\n",
    "\t# not yet included in shortest path tree\n",
    "\tdef minKey(self, key, mstSet):\n",
    "\t\t# Initialize min value\n",
    "\t\tmin = sys.maxsize\n",
    "\t\tfor v in range(self.V):\n",
    "\t\t\tif key[v] < min and mstSet[v] == False:\n",
    "\t\t\t\tmin = key[v]\n",
    "\t\t\t\tmin_index = v\n",
    "\t\treturn min_index\n",
    "\n",
    "\t# Function to construct and print MST for a graph\n",
    "\t# represented using adjacency matrix representation\n",
    "\tdef primMST(self):\n",
    "\t\t# Key values used to pick minimum weight edge in cut\n",
    "\t\tkey = [sys.maxsize] * self.V\n",
    "\t\tparent = [None] * self.V # Array to store constructed MST\n",
    "\t\t# Make key 0 so that this vertex is picked as first vertex\n",
    "\t\tkey[0] = 0\n",
    "\t\tmstSet = [False] * self.V\n",
    "\t\tparent[0] = -1 # First node is always the root of\n",
    "\t\tfor cout in range(self.V):\n",
    "\t\t\t# Pick the minimum distance vertex from\n",
    "\t\t\t# the set of vertices not yet processed.\n",
    "\t\t\t# u is always equal to src in first iteration\n",
    "\t\t\tu = self.minKey(key, mstSet)\n",
    "\t\t\t# Put the minimum distance vertex in\n",
    "\t\t\t# the shortest path tree\n",
    "\t\t\tmstSet[u] = True\n",
    "\t\t\t# Update dist value of the adjacent vertices\n",
    "\t\t\t# of the picked vertex only if the current\n",
    "\t\t\t# distance is greater than new distance and\n",
    "\t\t\t# the vertex in not in the shortest path tree\n",
    "\t\t\tfor v in range(self.V):\n",
    "\t\t\t\t# graph[u][v] is non zero only for adjacent vertices of m\n",
    "\t\t\t\t# mstSet[v] is false for vertices not yet included in MST\n",
    "\t\t\t\t# Update the key only if graph[u][v] is smaller than key[v]\n",
    "\t\t\t\tif self.graph[u][v] > 0 and mstSet[v] == False \\\n",
    "\t\t\t\tand key[v] > self.graph[u][v]:\n",
    "\t\t\t\t\tkey[v] = self.graph[u][v]\n",
    "\t\t\t\t\tparent[v] = u\n",
    "\t\t# return self.printMST2(parent)\n",
    "\t\treturn(self.nxmst(parent),self.printMST2(parent))"
   ]
  },
  {
   "cell_type": "code",
   "execution_count": 4,
   "metadata": {},
   "outputs": [],
   "source": [
    "p=5\n",
    "n=100\n",
    "sigma=1.075\n",
    "delta=0.75"
   ]
  },
  {
   "cell_type": "code",
   "execution_count": 178,
   "metadata": {},
   "outputs": [],
   "source": [
    "%matplotlib qt\n",
    "def visualize(G,ranks,coordinstes,hdp):\n",
    "    # Relabel the nodes from 1 to n\n",
    "    mapping = {node: i+1 for i, node in enumerate(G.nodes())}\n",
    "    G = nx.relabel_nodes(G, mapping)\n",
    "    # Plot the graph\n",
    "    # node_labels = {i:f'{i+1}\\nRank:{ranks[i]}' for i in G.nodes()}\n",
    "    pos = {node: tuple(coord) for node, coord in zip(G.nodes(),coordinstes)}\n",
    "    # pos = nx.fruchterman_reingold_layout(G)  # Compute the node positions using a layout algorithm\n",
    "    nx.draw(G, pos, with_labels=1, node_color='green', node_size=500, alpha=0.8, font_color='yellow', font_size=12)\n",
    "    # nx.draw_networkx_labels(G, pos, labels=node_labels, font_color='black', font_size=12)\n",
    "    \n",
    "    label_positions = nx.spring_layout(G, pos=pos, fixed=pos.keys())  # Re-compute node positions\n",
    "    for node, label_pos in label_positions.items():\n",
    "        x,y= label_pos\n",
    "        plt.text(x+0.1,y-0.05,f'Rank:{ranks[node-1]}', color='blue', fontsize=10)\n",
    "    \n",
    "    edge_labels = nx.get_edge_attributes(G, 'weight')\n",
    "    edge_labels = {edge: f'{weight:.2f}' for edge, weight in edge_labels.items()}  # Format edge weights\n",
    "    nx.draw_networkx_edge_labels(G, pos, edge_labels=edge_labels, font_color='red')\n",
    "\n",
    "    if hdp==1:plt.title(\"Minimum Spanning Tree with radial Ranks\")\n",
    "    else:plt.title(\"Minimum Spanning Tree with HDP Ranks\")\n",
    "    plt.show()"
   ]
  },
  {
   "cell_type": "code",
   "execution_count": 207,
   "metadata": {},
   "outputs": [],
   "source": [
    "def RKStest(z,n,m):\n",
    "    p=z.shape[1]\n",
    "    dist=pairwise_distances(z)\n",
    "    g = Graph(n*2)\n",
    "    g.graph = dist\n",
    "    G,adjlist=g.primMST()\n",
    "    root=np.argmin(np.array(list(nx.eccentricity(G).values())))\n",
    "    depth=[-1]*n*2\n",
    "    # i=0\n",
    "    d=0\n",
    "    stack=[root]\n",
    "    while(len(stack)>0):\n",
    "        for j in stack:\n",
    "            depth[j]=d\n",
    "        t=len(stack)\n",
    "        for j in range(t):\n",
    "            for k in adjlist[stack[0]]:\n",
    "                if(depth[k[0]]==-1):\n",
    "                    stack.append(k[0])\n",
    "            stack=stack[1:]\n",
    "        d+=1\n",
    "    rank=[0]*2*n\n",
    "    m=max(depth)\n",
    "    d=0\n",
    "    for i in range(m+1):\n",
    "        t=[]\n",
    "        for j in range(2*n):\n",
    "            if(depth[j]==i):\n",
    "                t.append(j)\n",
    "        rank_temp=np.argsort(dist[root,t])\n",
    "        for j in range(len(t)):\n",
    "            rank[t[rank_temp[j]]]=d+j\n",
    "        d+=j+1\n",
    "    # visualize(G,rank,z,0) \n",
    "    # print(f'Ranks:{rank}')\n",
    "    d=0\n",
    "    for i in range(2*n):\n",
    "        a=[]\n",
    "        b=[]\n",
    "        for j in range(2*n):\n",
    "            if(rank[j]<=i):\n",
    "                if(j<n):\n",
    "                    a.append(j)\n",
    "                else:\n",
    "                    b.append(j)\n",
    "        if(abs(len(a)-len(b))/n>d):\n",
    "            d=abs(len(a)-len(b))/n\n",
    "    return d*np.sqrt((n*m)/(n+m))"
   ]
  },
  {
   "cell_type": "code",
   "execution_count": 210,
   "metadata": {},
   "outputs": [],
   "source": [
    "def KStest(z,n,m):\n",
    "    d_alpha=1.36*np.sqrt(2/n)\n",
    "    g = Graph(n*2)\n",
    "    dist=pairwise_distances(z)\n",
    "    g.graph = dist\n",
    "    G,adjlist=g.primMST()\n",
    "    # nx.draw(G,node_color=color,**options)\n",
    "    # root=(n+m)-np.argmax(np.reverse(np.array(list(nx.eccentricity(G).values()))))\n",
    "    root=(n+m-1)-np.argmax((np.array(list(nx.eccentricity(G).values()))[::-1]))\n",
    "    # print(f'{list(nx.eccentricity(G).values())},root:{root}')\n",
    "    height=[0]*2*n\n",
    "    def heighter(v):\n",
    "        m=0\n",
    "        height[v]=-1\n",
    "        child=[]\n",
    "        for i in adjlist[v]:\n",
    "            if(height[i[0]]!=-1):\n",
    "                child.append(i[0])\n",
    "        if(len(child)==0):\n",
    "            return 0\n",
    "        else:\n",
    "            for i in child:\n",
    "                height[i]=heighter(i)\n",
    "                if(m<height[i]):\n",
    "                    m=height[i]\n",
    "            return m+1\n",
    "\n",
    "    height[root]=heighter(root)\n",
    "    visited=[False]*2*n\n",
    "    rank=[]\n",
    "    def hdp(v):\n",
    "        rank.append(v)\n",
    "        visited[v]=True\n",
    "        t=[]\n",
    "        for i in adjlist[v]:\n",
    "            if not visited[i[0]]:\n",
    "                t.append(i[0])\n",
    "        # t=list(t&vertices)\n",
    "        if(len(t)>0):\n",
    "            temp2=np.array([height[i] for i in t])\n",
    "            temp=np.array([dist[root,i] for i in t])\n",
    "            temp = np.array(list(zip(temp2, temp)), dtype=[('value', 'i4'), ('cost', 'float')])\n",
    "            temp = np.argsort(temp, order=['value', 'cost'])\n",
    "            for i in temp:\n",
    "                hdp(t[i])\n",
    "    hdp(root)\n",
    "    # print(f'{list(nx.eccentricity(G).values())},root:{root},rank:{np.argsort(rank)}')\n",
    "    # visualize(G,np.argsort(rank),z,1) \n",
    "    d=0\n",
    "    for i in range(2*n):\n",
    "        a=[]\n",
    "        b=[]\n",
    "        for j in range(i):\n",
    "            if(rank[j]<n):\n",
    "                a.append(j)\n",
    "            else:\n",
    "                b.append(j)\n",
    "        if(abs(len(a)-len(b))/n>d):\n",
    "            d=abs(len(a)-len(b))/n\n",
    "    if(d<d_alpha):\n",
    "        print('accept')\n",
    "    else:\n",
    "        print('reject')\n",
    "    return d*np.sqrt((n*m)/(n+m))"
   ]
  },
  {
   "cell_type": "code",
   "execution_count": 212,
   "metadata": {},
   "outputs": [
    {
     "name": "stdout",
     "output_type": "stream",
     "text": [
      "reject\n"
     ]
    },
    {
     "data": {
      "text/plain": [
       "2.1"
      ]
     },
     "execution_count": 212,
     "metadata": {},
     "output_type": "execute_result"
    }
   ],
   "source": [
    "import pickle\n",
    "dat=pickle.load(open(\"../dat.pkl\",'rb'))\n",
    "KStest(dat.T,50,50)"
   ]
  },
  {
   "cell_type": "code",
   "execution_count": 205,
   "metadata": {},
   "outputs": [
    {
     "data": {
      "text/plain": [
       "0.5477225575051662"
      ]
     },
     "execution_count": 205,
     "metadata": {},
     "output_type": "execute_result"
    }
   ],
   "source": [
    "RKStest(dat.T,5,5)"
   ]
  },
  {
   "cell_type": "code",
   "execution_count": 12,
   "metadata": {},
   "outputs": [
    {
     "data": {
      "text/plain": [
       "37"
      ]
     },
     "execution_count": 12,
     "metadata": {},
     "output_type": "execute_result"
    }
   ],
   "source": [
    "p=5\n",
    "n=100\n",
    "sigma=1.075\n",
    "delta=0.75\n",
    "x=np.random.lognormal(0,1,(n,p))\n",
    "y=np.random.lognormal(delta/np.sqrt(p),sigma,(n,p))   \n",
    "z=np.row_stack((x,y))"
   ]
  },
  {
   "cell_type": "code",
   "execution_count": 17,
   "metadata": {},
   "outputs": [
    {
     "data": {
      "text/plain": [
       "{'p=1,delta=0.4,alpha=1': 25,\n",
       " 'p=2,delta=0.4,alpha=1': 315,\n",
       " 'p=5,delta=0.3,alpha=1': 183,\n",
       " 'p=10,delta=0.3,alpha=1': 120,\n",
       " 'p=20,delta=0.3,alpha=1': 108}"
      ]
     },
     "execution_count": 17,
     "metadata": {},
     "output_type": "execute_result"
    }
   ],
   "source": [
    "p=[1,2,5,10,20]\n",
    "delta=[.4,.4,.3,.3,.3]\n",
    "alpha=[1.3,1.2,1.2,1.1,1.075]\n",
    "dict={}\n",
    "for i in range(5):\n",
    "    dict[f'p={p[i]},delta={delta[i]},alpha={1}']=trial2(p[i],delta[i])\n",
    "# for i in range(5):\n",
    "    # dict[f'p={p[i]},delta={0},alpha={alpha[i]}']=trial2(p[i],alpha[i])\n",
    "\n",
    "dict"
   ]
  }
 ],
 "metadata": {
  "kernelspec": {
   "display_name": "Python 3",
   "language": "python",
   "name": "python3"
  },
  "language_info": {
   "codemirror_mode": {
    "name": "ipython",
    "version": 3
   },
   "file_extension": ".py",
   "mimetype": "text/x-python",
   "name": "python",
   "nbconvert_exporter": "python",
   "pygments_lexer": "ipython3",
   "version": "3.10.0"
  },
  "orig_nbformat": 4
 },
 "nbformat": 4,
 "nbformat_minor": 2
}
